{
 "cells": [
  {
   "cell_type": "code",
   "execution_count": null,
   "metadata": {},
   "outputs": [],
   "source": [
    "import MovieInteface as mi\n",
    "import MoviesDB as mdb\n",
    "\n",
    "check_it_movies = mi.convertAggregateImdbResponseFileToMovies('data/top_1000_part_1_responded.json')\n",
    "open_tasks_iter = filter(lambda movie: (movie.imdb_response.valid == True), check_it_movies )\n",
    "open_tasks = list(open_tasks_iter)\n",
    "print(open_tasks[0])\n",
    "db = mdb.MoviesDB(build_tables=True)\n",
    "db.add_movie(open_tasks[0])\n",
    "db.add_movie(open_tasks[1])\n",
    "db.add_movie(open_tasks[2])\n",
    "cur = db.conn.cursor()\n",
    "cur.execute(\"\"\"SELECT * FROM Movies\"\"\")\n",
    "print(tuple(cur.fetchall()))\n",
    "cur.execute(\"\"\"SELECT * FROM Responses\"\"\")\n",
    "print(list(cur.fetchall()))\n",
    "cur.execute(\"\"\"SELECT * FROM Searches\"\"\")   \n",
    "print(cur.fetchall())\n",
    "\n"
   ]
  },
  {
   "cell_type": "code",
   "execution_count": null,
   "metadata": {},
   "outputs": [],
   "source": [
    "cur = db.conn.cursor()\n",
    "sql = \"\"\"\n",
    "    SELECT Movies.title, Movies.year, Responses.total_results, Searches.title, Searches.year \n",
    "        FROM Movies\n",
    "        JOIN Responses ON Movies.id = Responses.from_movies_id \n",
    "        JOIN Searches ON Responses.id = Searches.from_responses_id\n",
    "    \"\"\"\n",
    "cur.execute(sql)\n",
    "print(cur.fetchall())"
   ]
  },
  {
   "cell_type": "code",
   "execution_count": null,
   "metadata": {},
   "outputs": [],
   "source": [
    "import sqlite3\n",
    "import MoviesDB as mdb\n",
    "db = mdb.MoviesDB()\n",
    "cur = db.conn.cursor()\n",
    "sql =\"\"\"\n",
    "    SELECT COUNT(1)\n",
    "    FROM Movies\n",
    "    \"\"\"\n",
    "cur.execute(sql)\n",
    "print(cur.fetchone())\n"
   ]
  },
  {
   "cell_type": "code",
   "execution_count": 1,
   "metadata": {},
   "outputs": [
    {
     "name": "stdout",
     "output_type": "stream",
     "text": [
      "3\n",
      "3\n",
      "4\n"
     ]
    }
   ],
   "source": [
    "from MoviesDB import Stats \n",
    "import sqlite3\n",
    "import MoviesDB as mdb\n",
    "db = mdb.MoviesDB()\n",
    "db.conn.row_factory = sqlite3.Row\n",
    "stats = db.getStats()\n",
    "print(stats.total_movies)\n",
    "print(stats.total_movies_missing_imdb_id)\n",
    "print(stats.total_searchs)\n"
   ]
  }
 ],
 "metadata": {
  "kernelspec": {
   "display_name": "Python 3.10.5 64-bit",
   "language": "python",
   "name": "python3"
  },
  "language_info": {
   "codemirror_mode": {
    "name": "ipython",
    "version": 3
   },
   "file_extension": ".py",
   "mimetype": "text/x-python",
   "name": "python",
   "nbconvert_exporter": "python",
   "pygments_lexer": "ipython3",
   "version": "3.10.5"
  },
  "orig_nbformat": 4,
  "vscode": {
   "interpreter": {
    "hash": "715d7e6b028ed877552798a9cea34c102db5154f4f373b332d6cc7161c451d42"
   }
  }
 },
 "nbformat": 4,
 "nbformat_minor": 2
}
