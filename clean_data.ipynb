{
 "cells": [
  {
   "cell_type": "code",
   "execution_count": 1,
   "metadata": {},
   "outputs": [
    {
     "name": "stdout",
     "output_type": "stream",
     "text": [
      "Movie: (500) Days of Summer (2009) \n",
      "\t Searches: [(500) Days of Summer (2009), Not a Love Story: Making (500) Days of Summer (2009)]\n",
      "UNIQUE constraint failed: Movies.name, Movies.year\n",
      "UNIQUE constraint failed: Movies.name, Movies.year\n",
      "UNIQUE constraint failed: Movies.name, Movies.year\n",
      "[(1, '(500) Days of Summer', 2009, ''), (2, '[REC]', 2007, ''), (3, '12 Angry Men', 1957, '')]\n",
      "[(1, 1, 1, None, 2), (2, 2, 1, None, 1), (3, 3, 1, None, 1)]\n",
      "[(1, 1, '(500) Days of Summer', 2009, 'tt1022603', 'movie', 'https://m.media-amazon.com/images/M/MV5BMTk5MjM4OTU1OV5BMl5BanBnXkFtZTcwODkzNDIzMw@@._V1_SX300.jpg'), (2, 1, 'Not a Love Story: Making (500) Days of Summer', 2009, 'tt1572162', 'movie', 'N/A'), (3, 2, '[Rec]', 2007, 'tt1038988', 'movie', 'https://m.media-amazon.com/images/M/MV5BZTJmNTZlZWUtZTQ2Yi00YTFjLWFiNzctYzFlNmZmZGMzYTlmXkEyXkFqcGdeQXVyMjQ2MTk1OTE@._V1_SX300.jpg'), (4, 3, '14 Angry Men', 1957, 'tt0050083', 'movie', 'https://m.media-amazon.com/images/M/MV5BMWU4N2FjNzYtNTVkNC00NzQ0LTg0MjAtYTJlMjFhNGUxZDFmXkEyXkFqcGdeQXVyNjc1NTYyMjg@._V1_SX300.jpg')]\n"
     ]
    }
   ],
   "source": [
    "import MovieInteface as mi\n",
    "import MoviesDB as mdb\n",
    "\n",
    "check_it_movies = mi.convertAggregateImdbResponseFileToMovies('data/top_1000_part_1_responded.json')\n",
    "open_tasks_iter = filter(lambda movie: (movie.imdb_response.valid == True), check_it_movies )\n",
    "open_tasks = list(open_tasks_iter)\n",
    "print(open_tasks[0])\n",
    "db = mdb.MoviesDB(\"data/movies.db\")\n",
    "db.add_movie(open_tasks[0])\n",
    "db.add_movie(open_tasks[1])\n",
    "db.add_movie(open_tasks[2])\n",
    "cur = db.conn.cursor()\n",
    "cur.execute(\"\"\"SELECT * FROM Movies\"\"\")\n",
    "print(cur.fetchall())\n",
    "cur.execute(\"\"\"SELECT * FROM Responses\"\"\")\n",
    "print(cur.fetchall())\n",
    "cur.execute(\"\"\"SELECT * FROM Searches\"\"\")   \n",
    "print(cur.fetchall())\n",
    "\n"
   ]
  },
  {
   "cell_type": "code",
   "execution_count": 3,
   "metadata": {},
   "outputs": [
    {
     "name": "stdout",
     "output_type": "stream",
     "text": [
      "(1, '(500) Days of Summer', 2009, '')\n",
      "(2, '[REC]', 2007, '')\n",
      "(3, '12 Angry Men', 1957, '')\n"
     ]
    }
   ],
   "source": [
    "ans = db.getMoviesWithNoImdbId()\n",
    "for row in ans:\n",
    "    print(row)"
   ]
  }
 ],
 "metadata": {
  "kernelspec": {
   "display_name": "Python 3.10.5 64-bit",
   "language": "python",
   "name": "python3"
  },
  "language_info": {
   "codemirror_mode": {
    "name": "ipython",
    "version": 3
   },
   "file_extension": ".py",
   "mimetype": "text/x-python",
   "name": "python",
   "nbconvert_exporter": "python",
   "pygments_lexer": "ipython3",
   "version": "3.10.5"
  },
  "orig_nbformat": 4,
  "vscode": {
   "interpreter": {
    "hash": "715d7e6b028ed877552798a9cea34c102db5154f4f373b332d6cc7161c451d42"
   }
  }
 },
 "nbformat": 4,
 "nbformat_minor": 2
}
