{
 "cells": [
  {
   "cell_type": "code",
   "execution_count": 1,
   "metadata": {},
   "outputs": [
    {
     "name": "stdout",
     "output_type": "stream",
     "text": [
      "271\n",
      "['id', 'title', 'year', 'imdb_id']\n",
      "(26, '3-Iron', 2004, '')\n",
      "5\n",
      "(26, '3-Iron', 2004, '')\n",
      "(28, 'The 400 Blows', 1959, '')\n",
      "(31, '5 Centimeters Per Second', 2007, '')\n",
      "(35, 'À Nos Amours', 1983, '')\n",
      "(36, 'À Nous La Liberté', 1931, '')\n",
      "266\n"
     ]
    }
   ],
   "source": [
    "import sqlite3\n",
    "import MoviesDB as mdb\n",
    "\n",
    "def getMoviesWithConfidentMatch(self):\n",
    "    if self.conn is None:\n",
    "        return\n",
    "    self.conn.row_factory = sqlite3.Row\n",
    "    cur = self.conn.cursor()\n",
    "    cur.execute(\"\"\"\n",
    "                SELECT Movies.id, Movies.title, Movies.year, Movies.imdb_id \n",
    "                FROM Movies\n",
    "                INNER JOIN Responses ON Movies.id = Responses.from_movies_id\n",
    "                WHERE Responses.valid = 1 AND Responses.total_results = 1\n",
    "                \"\"\")\n",
    "    return cur.fetchall()\n",
    "\n",
    "db = mdb.MoviesDB()\n",
    "ans = db.getMoviesWithConfidentMatch()\n",
    "sub_ans = ans[:5]\n",
    "print(len(ans))\n",
    "print(ans[0].keys())\n",
    "print(tuple(ans[0]))\n",
    "\n",
    "print(len(sub_ans))\n",
    "for movie in sub_ans:\n",
    "    print(tuple(movie))\n",
    "db.autoFixMovies(sub_ans)\n",
    "ans_2 = db.getMoviesWithConfidentMatch()\n",
    "print(len(ans_2))"
   ]
  }
 ],
 "metadata": {
  "kernelspec": {
   "display_name": "Python 3.8.10 64-bit",
   "language": "python",
   "name": "python3"
  },
  "language_info": {
   "codemirror_mode": {
    "name": "ipython",
    "version": 3
   },
   "file_extension": ".py",
   "mimetype": "text/x-python",
   "name": "python",
   "nbconvert_exporter": "python",
   "pygments_lexer": "ipython3",
   "version": "3.8.10"
  },
  "orig_nbformat": 4,
  "vscode": {
   "interpreter": {
    "hash": "916dbcbb3f70747c44a77c7bcd40155683ae19c65e1c03b4aa3499c5328201f1"
   }
  }
 },
 "nbformat": 4,
 "nbformat_minor": 2
}
