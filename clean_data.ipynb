{
 "cells": [
  {
   "cell_type": "code",
   "execution_count": null,
   "metadata": {},
   "outputs": [],
   "source": [
    "\n",
    "# check_it_movies = mi.convertAggregateImdbResponseFileToMovies('data/top_1000_part_1_responded.json')\n",
    "# db = mdb.MoviesDB(build_tables=True)\n",
    "# db.addMovies(check_it_movies)\n",
    "\n"
   ]
  },
  {
   "cell_type": "code",
   "execution_count": null,
   "metadata": {},
   "outputs": [],
   "source": []
  },
  {
   "cell_type": "code",
   "execution_count": null,
   "metadata": {},
   "outputs": [],
   "source": [
    "\n"
   ]
  },
  {
   "cell_type": "code",
   "execution_count": 2,
   "metadata": {},
   "outputs": [],
   "source": [
    "from MoviesDB import Stats \n",
    "import MovieInteface as mi\n",
    "import sqlite3\n",
    "import MoviesDB as mdb\n"
   ]
  },
  {
   "cell_type": "code",
   "execution_count": 22,
   "metadata": {},
   "outputs": [
    {
     "name": "stdout",
     "output_type": "stream",
     "text": [
      "(500) Days of Summer\n"
     ]
    }
   ],
   "source": [
    "from MoviesDB import Stats \n",
    "import MovieInteface as mi\n",
    "import sqlite3\n",
    "import MoviesDB as mdb\n",
    "\n",
    "\n",
    "def safe(func):\n",
    "    def db_call(*args, **kwargs):\n",
    "        db = mdb.MoviesDB()\n",
    "        thing = func(db, *args, **kwargs)\n",
    "        db.close()\n",
    "        if thing is None:\n",
    "            abort(404)\n",
    "        return thing\n",
    "    return db_call \n",
    "\n",
    "def safer_db_call(func):\n",
    "    db = mdb.MoviesDB()\n",
    "    print(func.__name__)\n",
    "    call = getattr(db, func)\n",
    "    thing = call()\n",
    "    db.close()\n",
    "    return thing\n",
    "\n",
    "# safer_ger_movie = safe_db(mdb.MoviesDB.getMovie)\n",
    "# print(safer_ger_movie(1))\n",
    "new_call = safe(mdb.MoviesDB.getMovie)\n",
    "print(new_call(1)[1])\n",
    "# new_call = safe_db(db::getMovie)\n",
    "# (1)['title'])\n",
    "\n",
    "# new_f = safe_db(db.getMovie)\n",
    "# print(new_f.__name__)"
   ]
  }
 ],
 "metadata": {
  "kernelspec": {
   "display_name": "Python 3.8.10 64-bit",
   "language": "python",
   "name": "python3"
  },
  "language_info": {
   "codemirror_mode": {
    "name": "ipython",
    "version": 3
   },
   "file_extension": ".py",
   "mimetype": "text/x-python",
   "name": "python",
   "nbconvert_exporter": "python",
   "pygments_lexer": "ipython3",
   "version": "3.8.10"
  },
  "orig_nbformat": 4,
  "vscode": {
   "interpreter": {
    "hash": "916dbcbb3f70747c44a77c7bcd40155683ae19c65e1c03b4aa3499c5328201f1"
   }
  }
 },
 "nbformat": 4,
 "nbformat_minor": 2
}
