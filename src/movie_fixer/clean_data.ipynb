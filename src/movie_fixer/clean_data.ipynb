{
 "cells": [
  {
   "cell_type": "code",
   "execution_count": 1,
   "metadata": {},
   "outputs": [
    {
     "name": "stdout",
     "output_type": "stream",
     "text": [
      "0.9673886299133301\n",
      "{27: [4 Months, 3 Weeks and 2 Days (2007)], 23: [35 Shots of Rum (2009)], 24: [The 36th Chamber of Shaolin (1978)], 12: [2 or 3 Things I Know About Her (1967)], 20: [3 Women (1977), The Man Who Loved Women (1977), SS Camp 5: Women's Hell (1977), Women's Camp 119 (1977), Captive Women 4 (1977), Riot in a Women's Prison (1974), Convoy of Women (1974), Blue Rita (1977), Thunder County (1974), Women Are Naturally Creative: Agnès Varda (1977), The Last Lustful Night (1976), Working Class Women Changing their World (1977), Women in New York (1977), Two Women (1977), Women in Hospital (1977), Captain Lust (1977), 13 Golden Nuns (1977), Journey Among Women (1977), Policewomen (1974), Rosetti and Ryan: Men Who Love Women (1977)]}\n"
     ]
    }
   ],
   "source": [
    "import asyncio\n",
    "import movie_fixer.movie_interface as mi\n",
    "\n",
    "import requests\n",
    "import json\n",
    "import movie_fixer.backend_caller as bc\n",
    "import tmdb_api\n",
    "async def main():\n",
    "    # movie1 = mi.Movie(\"dumb and dumber\", 1994)\n",
    "    # movie2 = mi.Movie(\"Heat\", 1995)\n",
    "    # results = {1:movie1, 2:movie2}\n",
    "    # task1 = tmdb_api.Task(1, tmdb_api.make_params_from_movie(movie1))\n",
    "    # task2 = tmdb_api.Task(2, tmdb_api.make_params_from_movie(movie2))\n",
    "    # queries = [task1, task2]\n",
    "    # await tmdb_api.batch_runner(5, queries, results)\n",
    "    # print(results[1].tmdb_response)\n",
    "    # print(results[2].tmdb_response)\n",
    "    results = await bc.update_invalid_movies_async()\n",
    "    print(results)\n",
    "\n",
    "await main()"
   ]
  }
 ],
 "metadata": {
  "kernelspec": {
   "display_name": "Python 3.10.8 ('movie-fixer-DOWIZtZ4')",
   "language": "python",
   "name": "python3"
  },
  "language_info": {
   "codemirror_mode": {
    "name": "ipython",
    "version": 3
   },
   "file_extension": ".py",
   "mimetype": "text/x-python",
   "name": "python",
   "nbconvert_exporter": "python",
   "pygments_lexer": "ipython3",
   "version": "3.10.8"
  },
  "orig_nbformat": 4,
  "vscode": {
   "interpreter": {
    "hash": "ee76f19d48120166cf67ad4b330abce5b1d1c7f8f4e1eaa2bedfad55e5157de3"
   }
  }
 },
 "nbformat": 4,
 "nbformat_minor": 2
}
